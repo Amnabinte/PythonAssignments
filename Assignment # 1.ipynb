{
 "cells": [
  {
   "cell_type": "code",
   "execution_count": 1,
   "metadata": {},
   "outputs": [
    {
     "name": "stdout",
     "output_type": "stream",
     "text": [
      "\tTwinkle, twinkle, little star,\n",
      "\t\tHow I wonder what you are!\n",
      "\t\t\tUp above the world so high,\n",
      "\t\t\tLike a diamond in the sky.\n",
      "\tTwinkle, twinkle, little star,\n",
      "\t\tHow I wonder what you are!\n"
     ]
    }
   ],
   "source": [
    "#Submitted By: AMNA BINT-E-SHAHEEN (PY00501)\n",
    "a= \"Twinkle, twinkle, little star,\"\n",
    "b= \"How I wonder what you are!\"\n",
    "c= \"Up above the world so high,\"\n",
    "d= \"Like a diamond in the sky.\"\n",
    "print(\"\\t\" + a + \"\\n\\t\\t\"+ b +\"\\n\\t\\t\\t\"+ c + \"\\n\\t\\t\\t\" + d +\"\\n\\t\"+ a+ \"\\n\\t\\t\"+b )"
   ]
  },
  {
   "cell_type": "code",
   "execution_count": 2,
   "metadata": {},
   "outputs": [
    {
     "name": "stdout",
     "output_type": "stream",
     "text": [
      "Python Version\n",
      "3.7.4 (default, Aug  9 2019, 18:22:51) [MSC v.1915 32 bit (Intel)]\n"
     ]
    }
   ],
   "source": [
    "#Submitted By: AMNA BINT-E-SHAHEEN (PY00501)\n",
    "#Python Version \n",
    "import sys\n",
    "print (\"Python Version\")\n",
    "print (sys.version)"
   ]
  },
  {
   "cell_type": "code",
   "execution_count": 3,
   "metadata": {},
   "outputs": [
    {
     "name": "stdout",
     "output_type": "stream",
     "text": [
      "Current\n",
      "Date:03/11/2019 \n",
      "Time:02:42:08\n"
     ]
    }
   ],
   "source": [
    "#Submitted By: AMNA BINT-E-SHAHEEN (PY00501)\n",
    "#Current Date and Time \n",
    "import datetime \n",
    "now = datetime.datetime.now()\n",
    "date = now. strftime(\"%d/%m/%Y \")\n",
    "time= now. strftime (\"%H:%M:%S\")\n",
    "print(\"Current\\nDate:\" + date + \"\\nTime:\" + time)"
   ]
  },
  {
   "cell_type": "code",
   "execution_count": 4,
   "metadata": {},
   "outputs": [
    {
     "name": "stdout",
     "output_type": "stream",
     "text": [
      "Enter radius of circle: 2\n",
      "Area of circle= 12.566370614359172\n"
     ]
    }
   ],
   "source": [
    "#Submitted By: AMNA BINT-E-SHAHEEN (PY00501)\n",
    "#Computing area of Circle\n",
    "import math\n",
    "r= int (input (\"Enter radius of circle: \") )\n",
    "Area= math.pi * (r**2)\n",
    "print (\"Area of circle=\" ,Area)"
   ]
  },
  {
   "cell_type": "code",
   "execution_count": 5,
   "metadata": {},
   "outputs": [
    {
     "name": "stdout",
     "output_type": "stream",
     "text": [
      "Enter First Name: Amna\n",
      "Enter Last Name: Shaheen\n",
      "Shaheen Amna\n"
     ]
    }
   ],
   "source": [
    "#Submitted By: AMNA BINT-E-SHAHEEN (PY00501)\n",
    "First_Name= input (\"Enter First Name: \")\n",
    "Last_Name= input (\"Enter Last Name: \")\n",
    "print (Last_Name +\" \"+ First_Name)"
   ]
  },
  {
   "cell_type": "code",
   "execution_count": 6,
   "metadata": {},
   "outputs": [
    {
     "name": "stdout",
     "output_type": "stream",
     "text": [
      "Enter First number = 2\n",
      "Enter Second number = 3\n",
      "Answer:  5\n"
     ]
    }
   ],
   "source": [
    "#Submitted By: AMNA BINT-E-SHAHEEN (PY00501)\n",
    "#Addition of Numbers\n",
    "num1= int( input(\"Enter First number = \"))\n",
    "num2= int( input(\"Enter Second number = \"))\n",
    "Ans = num1 + num2\n",
    "print (\"Answer: \",Ans)"
   ]
  },
  {
   "cell_type": "code",
   "execution_count": null,
   "metadata": {},
   "outputs": [],
   "source": []
  }
 ],
 "metadata": {
  "kernelspec": {
   "display_name": "Python 3",
   "language": "python",
   "name": "python3"
  },
  "language_info": {
   "codemirror_mode": {
    "name": "ipython",
    "version": 3
   },
   "file_extension": ".py",
   "mimetype": "text/x-python",
   "name": "python",
   "nbconvert_exporter": "python",
   "pygments_lexer": "ipython3",
   "version": "3.7.4"
  }
 },
 "nbformat": 4,
 "nbformat_minor": 2
}
